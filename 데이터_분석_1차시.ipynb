{
  "nbformat": 4,
  "nbformat_minor": 0,
  "metadata": {
    "colab": {
      "provenance": [],
      "authorship_tag": "ABX9TyPerwOtr824to7yge4Vc68R",
      "include_colab_link": true
    },
    "kernelspec": {
      "name": "python3",
      "display_name": "Python 3"
    },
    "language_info": {
      "name": "python"
    }
  },
  "cells": [
    {
      "cell_type": "markdown",
      "metadata": {
        "id": "view-in-github",
        "colab_type": "text"
      },
      "source": [
        "<a href=\"https://colab.research.google.com/github/roughkyo7/2022dataset_test/blob/main/%EB%8D%B0%EC%9D%B4%ED%84%B0_%EB%B6%84%EC%84%9D_1%EC%B0%A8%EC%8B%9C.ipynb\" target=\"_parent\"><img src=\"https://colab.research.google.com/assets/colab-badge.svg\" alt=\"Open In Colab\"/></a>"
      ]
    },
    {
      "cell_type": "code",
      "execution_count": null,
      "metadata": {
        "colab": {
          "base_uri": "https://localhost:8080/"
        },
        "id": "5ixfk3g2wQGq",
        "outputId": "b40a572d-7d56-4f24-a6c4-d37433a09f78"
      },
      "outputs": [
        {
          "output_type": "stream",
          "name": "stdout",
          "text": [
            "4769\n"
          ]
        }
      ],
      "source": [
        "print(len(str(1242 ** 1541)))"
      ]
    },
    {
      "cell_type": "code",
      "source": [
        "print('hello world')"
      ],
      "metadata": {
        "colab": {
          "base_uri": "https://localhost:8080/"
        },
        "id": "7vWpVmIJwUN2",
        "outputId": "24fa0970-185c-49ba-bcd2-21dcd13c1b78"
      },
      "execution_count": null,
      "outputs": [
        {
          "output_type": "stream",
          "name": "stdout",
          "text": [
            "hello world\n"
          ]
        }
      ]
    },
    {
      "cell_type": "code",
      "source": [
        "name='파이썬'"
      ],
      "metadata": {
        "id": "N53GU3Brw47a"
      },
      "execution_count": null,
      "outputs": []
    },
    {
      "cell_type": "code",
      "source": [
        "print(name)"
      ],
      "metadata": {
        "colab": {
          "base_uri": "https://localhost:8080/"
        },
        "id": "9Y6bNcAaxG3h",
        "outputId": "2db459ba-69df-4763-ae5e-c7047e9ab37a"
      },
      "execution_count": null,
      "outputs": [
        {
          "output_type": "stream",
          "name": "stdout",
          "text": [
            "파이썬\n"
          ]
        }
      ]
    },
    {
      "cell_type": "code",
      "source": [
        "숫자=452\n",
        "print(숫자)"
      ],
      "metadata": {
        "colab": {
          "base_uri": "https://localhost:8080/"
        },
        "id": "bbwze4WtxWnD",
        "outputId": "2f6a3a9b-c6c6-4fe1-fa27-9bd9501ff96b"
      },
      "execution_count": null,
      "outputs": [
        {
          "output_type": "stream",
          "name": "stdout",
          "text": [
            "452\n"
          ]
        }
      ]
    },
    {
      "cell_type": "code",
      "source": [
        "name='파이썬'\n",
        "print(2022, name+'님! 안녕하세요!')"
      ],
      "metadata": {
        "colab": {
          "base_uri": "https://localhost:8080/"
        },
        "id": "OQzAM6Kkxkhd",
        "outputId": "ebc115bb-b442-4d61-f682-985d9758cdf9"
      },
      "execution_count": null,
      "outputs": [
        {
          "output_type": "stream",
          "name": "stdout",
          "text": [
            "2022 파이썬님! 안녕하세요!\n"
          ]
        }
      ]
    },
    {
      "cell_type": "code",
      "source": [
        "name='파이썬'\n",
        "print(2022, name, '님! 안녕하세요!')"
      ],
      "metadata": {
        "colab": {
          "base_uri": "https://localhost:8080/"
        },
        "outputId": "9ccd4966-cef2-483e-c262-7c53640eeae5",
        "id": "sTO8N-hU1Yo6"
      },
      "execution_count": 26,
      "outputs": [
        {
          "output_type": "stream",
          "name": "stdout",
          "text": [
            "2022 파이썬 님! 안녕하세요!\n"
          ]
        }
      ]
    },
    {
      "cell_type": "code",
      "source": [
        "name=input('이름을 입력해주세요 : ')\n",
        "print(name+'님 안녕하세요!')"
      ],
      "metadata": {
        "colab": {
          "base_uri": "https://localhost:8080/"
        },
        "id": "nA7DMF1Mxwfs",
        "outputId": "b3c81fc8-745b-48c4-a339-0032fdf47fa8"
      },
      "execution_count": null,
      "outputs": [
        {
          "output_type": "stream",
          "name": "stdout",
          "text": [
            "이름을 입력해주세요 : 홍길동\n",
            "홍길동님 안녕하세요!\n"
          ]
        }
      ]
    },
    {
      "cell_type": "code",
      "source": [
        "age=int(input('나이를 입력해주세요 : '))\n",
        "print(age - 4)"
      ],
      "metadata": {
        "colab": {
          "base_uri": "https://localhost:8080/"
        },
        "id": "kKNz2AgNyEnS",
        "outputId": "d2198b67-9504-4666-ddfe-440e6d2c16e5"
      },
      "execution_count": 25,
      "outputs": [
        {
          "output_type": "stream",
          "name": "stdout",
          "text": [
            "나이를 입력해주세요 : 30\n",
            "26\n"
          ]
        }
      ]
    },
    {
      "cell_type": "code",
      "source": [
        "# 다양한 값을 넣어보며 연습해보세요.\n",
        "print(3 * 10) # * : 곱셈 연산자\n",
        "print(3 ** 10) # ** : 거듭 제곱 연산자\n",
        "print(3 % 10) # % : 나머지 연산자\n",
        "print(3 / 2) # / : 실수 나눗셈\n",
        "print(3 // 2) # // : 정수 나눗셈"
      ],
      "metadata": {
        "colab": {
          "base_uri": "https://localhost:8080/"
        },
        "id": "BlcbcKjR1Fsl",
        "outputId": "9a785aff-2be0-4337-9bc8-e3b996dcc0a2"
      },
      "execution_count": 28,
      "outputs": [
        {
          "output_type": "stream",
          "name": "stdout",
          "text": [
            "30\n",
            "59049\n",
            "3\n",
            "1.5\n",
            "1\n"
          ]
        }
      ]
    },
    {
      "cell_type": "code",
      "source": [
        "# 다양한 값을 넣어보며 연습해보세요.\n",
        "print(10 >= 3)\n",
        "print(10 <= 3)\n",
        "print(10 == 3) # == : 같다\n",
        "print(10 != 3) # != : 같지 않다\n",
        "print(3 % 2 == 1)"
      ],
      "metadata": {
        "colab": {
          "base_uri": "https://localhost:8080/"
        },
        "id": "COTeRGtAzvcA",
        "outputId": "7e5fb9d5-4a71-478c-f17a-76c179e8604d"
      },
      "execution_count": 30,
      "outputs": [
        {
          "output_type": "stream",
          "name": "stdout",
          "text": [
            "True\n",
            "False\n",
            "False\n",
            "True\n",
            "True\n"
          ]
        }
      ]
    },
    {
      "cell_type": "code",
      "source": [
        "# 다양한 값을 넣어보며 연습해보세요.\n",
        "print(1 == 1 and 2 != 1) # True and True\n",
        "print(10 % 2 != 0 or 1 + 1 > 0) # False or True"
      ],
      "metadata": {
        "colab": {
          "base_uri": "https://localhost:8080/"
        },
        "id": "sD_HMyic2hS5",
        "outputId": "7eec3293-0a56-421d-b91a-5f5ab5330e96"
      },
      "execution_count": 32,
      "outputs": [
        {
          "output_type": "stream",
          "name": "stdout",
          "text": [
            "True\n",
            "True\n"
          ]
        }
      ]
    },
    {
      "cell_type": "code",
      "source": [
        "# 다양한 값을 넣어보며 연습해보세요.\n",
        "print(10 < 5 or 10 == 5) # False or False\n",
        "print(10 % 2 != 0 or 1 + 1 > 0) # False or True"
      ],
      "metadata": {
        "colab": {
          "base_uri": "https://localhost:8080/"
        },
        "id": "exr7_sxm3ILo",
        "outputId": "26ae24fb-3a4c-4d0e-db14-d614d1f7a745"
      },
      "execution_count": 34,
      "outputs": [
        {
          "output_type": "stream",
          "name": "stdout",
          "text": [
            "False\n",
            "True\n"
          ]
        }
      ]
    },
    {
      "cell_type": "code",
      "source": [
        "# 다양한 값을 넣어보며 연습해보세요.\n",
        "print(not 10 > 5) # not True\n",
        "print(not 10 == 5) # not False\n",
        "print(not 0) # 0은 False에 해당\n",
        "print(not 10) # 0을 제외한 숫자도 True에 해당"
      ],
      "metadata": {
        "colab": {
          "base_uri": "https://localhost:8080/"
        },
        "id": "IAIMHhti3KmF",
        "outputId": "c4817b6e-a639-4643-d2f3-4e6d78ff4abd"
      },
      "execution_count": 35,
      "outputs": [
        {
          "output_type": "stream",
          "name": "stdout",
          "text": [
            "False\n",
            "True\n",
            "True\n",
            "False\n"
          ]
        }
      ]
    },
    {
      "cell_type": "code",
      "source": [
        "import random\n",
        "dice = random.randint(1,6)\n",
        "print(dice)"
      ],
      "metadata": {
        "colab": {
          "base_uri": "https://localhost:8080/"
        },
        "id": "LJDNaltR3RqB",
        "outputId": "62fe7634-0a25-4a60-efcf-b206a2eaeb89"
      },
      "execution_count": 39,
      "outputs": [
        {
          "output_type": "stream",
          "name": "stdout",
          "text": [
            "4\n"
          ]
        }
      ]
    },
    {
      "cell_type": "code",
      "source": [
        "import math\n",
        "print(math.sqrt(2))"
      ],
      "metadata": {
        "colab": {
          "base_uri": "https://localhost:8080/"
        },
        "id": "obfejGme4BLp",
        "outputId": "d5434f5a-0ca4-4768-8b5b-cf16b655eeea"
      },
      "execution_count": 40,
      "outputs": [
        {
          "output_type": "stream",
          "name": "stdout",
          "text": [
            "1.4142135623730951\n"
          ]
        }
      ]
    },
    {
      "cell_type": "code",
      "source": [],
      "metadata": {
        "id": "E3bVCv-N4I-w"
      },
      "execution_count": null,
      "outputs": []
    }
  ]
}